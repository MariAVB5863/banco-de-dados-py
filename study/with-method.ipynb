{
 "cells": [
  {
   "cell_type": "code",
   "execution_count": 2,
   "metadata": {},
   "outputs": [
    {
     "name": "stdout",
     "output_type": "stream",
     "text": [
      "__enter__\n",
      "Main\n",
      "__exit__\n"
     ]
    }
   ],
   "source": [
    "class Log:\n",
    "    def __init__(self,filename):\n",
    "        self.filename=filename\n",
    "        self.fp=None    \n",
    "    def logging(self,text):\n",
    "        self.fp.write(text+'\\n')\n",
    "    def __enter__(self):\n",
    "        print(\"__enter__\")\n",
    "        self.fp=open(self.filename,\"a+\")\n",
    "        return self    \n",
    "    def __exit__(self, exc_type, exc_val, exc_tb):\n",
    "        print(\"__exit__\")\n",
    "        self.fp.close()\n",
    "\n",
    "with Log(r\"myfile.txt\") as logfile:\n",
    "    print(\"Main\")\n",
    "    logfile.logging(\"Test1\")\n",
    "    logfile.logging(\"Test2\")"
   ]
  }
 ],
 "metadata": {
  "interpreter": {
   "hash": "840a10a70918a6899bebb2b9e1745be0f325187f4b7111de39e763442eaa9d57"
  },
  "kernelspec": {
   "display_name": "Python 3.7.12 ('env': venv)",
   "language": "python",
   "name": "python3"
  },
  "language_info": {
   "codemirror_mode": {
    "name": "ipython",
    "version": 3
   },
   "file_extension": ".py",
   "mimetype": "text/x-python",
   "name": "python",
   "nbconvert_exporter": "python",
   "pygments_lexer": "ipython3",
   "version": "3.7.12"
  },
  "orig_nbformat": 4
 },
 "nbformat": 4,
 "nbformat_minor": 2
}
